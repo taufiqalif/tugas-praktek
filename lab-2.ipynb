{
 "cells": [
  {
   "cell_type": "code",
   "execution_count": 2,
   "metadata": {},
   "outputs": [
    {
     "name": "stdout",
     "output_type": "stream",
     "text": [
      "sepeda\n"
     ]
    }
   ],
   "source": [
    "thislist = [\"mobil\",\"motor\",\"sepeda\"]\n",
    "print(thislist[-1])"
   ]
  },
  {
   "cell_type": "code",
   "execution_count": 3,
   "metadata": {},
   "outputs": [
    {
     "name": "stdout",
     "output_type": "stream",
     "text": [
      "1. Ketuhanan yang maha ESA\n",
      "\n"
     ]
    }
   ],
   "source": [
    "f = open(\"Pancasila.txt\",\"r\")\n",
    "print(f.readline())\n",
    "f.close()"
   ]
  },
  {
   "cell_type": "code",
   "execution_count": 4,
   "metadata": {},
   "outputs": [
    {
     "name": "stdout",
     "output_type": "stream",
     "text": [
      "1. Ketuhanan yang maha ESA\n",
      "\n",
      "2. Kemanusian yang adil dan beradab\n",
      "\n",
      "3. Persatuan indonesia\n",
      "\n",
      "4. Kerakyatan yang dipimpin oleh hikmat kebijaksanaan dalam permusawarahan dan perwakilan\n",
      "\n",
      "5. Keadilan sosial bagi seluruh rakyat indonesia\n"
     ]
    }
   ],
   "source": [
    "a = open(\"Pancasila.txt\",\"r\")\n",
    "for x in a:\n",
    "  print(x)\n",
    "a.close()"
   ]
  },
  {
   "cell_type": "code",
   "execution_count": 11,
   "metadata": {},
   "outputs": [
    {
     "name": "stdout",
     "output_type": "stream",
     "text": [
      "Nama    : Taufiq Alif\n",
      "\n",
      "NIM     : 312010289\n",
      "\n",
      "Kelas   : TI.20.A.2\n",
      "\n",
      "Jurusan : Teknik Informatika\n",
      "\n",
      "Alamat  : Cikarang\n",
      "\n",
      "Hoby    : Rebahan\n"
     ]
    }
   ],
   "source": [
    "a = open(\"biodata.txt\",\"r\")\n",
    "for x in a:\n",
    "  print(x)\n",
    "a.close()"
   ]
  }
 ],
 "metadata": {
  "interpreter": {
   "hash": "3508deeb6396d8d95dfe1e435322af936d4b6ad0126316c42bd26b00bbafc1dd"
  },
  "kernelspec": {
   "display_name": "Python 3.9.1 64-bit",
   "language": "python",
   "name": "python3"
  },
  "language_info": {
   "codemirror_mode": {
    "name": "ipython",
    "version": 3
   },
   "file_extension": ".py",
   "mimetype": "text/x-python",
   "name": "python",
   "nbconvert_exporter": "python",
   "pygments_lexer": "ipython3",
   "version": "3.9.1"
  },
  "orig_nbformat": 4
 },
 "nbformat": 4,
 "nbformat_minor": 2
}
