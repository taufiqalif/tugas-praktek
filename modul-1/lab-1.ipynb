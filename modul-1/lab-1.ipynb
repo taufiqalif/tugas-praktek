{
 "cells": [
  {
   "cell_type": "code",
   "execution_count": 1,
   "metadata": {},
   "outputs": [
    {
     "name": "stdout",
     "output_type": "stream",
     "text": [
      "Nama :  taufiq alif rahman\n",
      "jumlah karakter Nama :  16\n",
      "NIM :  312010289\n",
      "jumlah karakter NIM :  9\n"
     ]
    }
   ],
   "source": [
    "# membuat nama kelas pada python (a)\n",
    "def a(nama):\n",
    "  \n",
    "  x = 0\n",
    "  \n",
    "  # menghitung ulang (looping) jumlah karakter yg dimasukan user \n",
    "  for char in nama:\n",
    "    # membuat kondisi dimana jika ada karakter spasi akan di hilangkan\n",
    "    if char != \" \":\n",
    "      # inkremen (setiap selesai mengulang akan di tambah 1)\n",
    "      x += 1\n",
    "  return x\n",
    "\n",
    "nama = input(\"masukan nama : \")\n",
    "# variable x mengambil data yang ada di kelas a(nama)\n",
    "x = a(nama)\n",
    "\n",
    "nim = input(\"masukan nim\")\n",
    "y = a(nim)\n",
    "\n",
    "# menampilkan hasil \n",
    "print(\"Nama : \",nama)\n",
    "print(\"jumlah karakter Nama : \", x)\n",
    "print(\"NIM : \",nim)\n",
    "print(\"jumlah karakter NIM : \", y)"
   ]
  }
 ],
 "metadata": {
  "interpreter": {
   "hash": "3508deeb6396d8d95dfe1e435322af936d4b6ad0126316c42bd26b00bbafc1dd"
  },
  "kernelspec": {
   "display_name": "Python 3.9.1 64-bit",
   "language": "python",
   "name": "python3"
  },
  "language_info": {
   "codemirror_mode": {
    "name": "ipython",
    "version": 3
   },
   "file_extension": ".py",
   "mimetype": "text/x-python",
   "name": "python",
   "nbconvert_exporter": "python",
   "pygments_lexer": "ipython3",
   "version": "3.9.1"
  },
  "orig_nbformat": 4
 },
 "nbformat": 4,
 "nbformat_minor": 2
}
